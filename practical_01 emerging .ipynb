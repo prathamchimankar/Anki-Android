{
  "nbformat": 4,
  "nbformat_minor": 0,
  "metadata": {
    "colab": {
      "provenance": [],
      "authorship_tag": "ABX9TyMWU6itAQNd9KXwHcM2nryk",
      "include_colab_link": true
    },
    "kernelspec": {
      "name": "python3",
      "display_name": "Python 3"
    },
    "language_info": {
      "name": "python"
    }
  },
  "cells": [
    {
      "cell_type": "markdown",
      "metadata": {
        "id": "view-in-github",
        "colab_type": "text"
      },
      "source": [
        "<a href=\"https://colab.research.google.com/github/prathamchimankar/Anki-Android/blob/main/practical_01%20emerging%20.ipynb\" target=\"_parent\"><img src=\"https://colab.research.google.com/assets/colab-badge.svg\" alt=\"Open In Colab\"/></a>"
      ]
    },
    {
      "cell_type": "code",
      "execution_count": 13,
      "metadata": {
        "id": "TvY03HIV5RG3"
      },
      "outputs": [],
      "source": [
        "import nltk\n",
        "from nltk import sent_tokenize\n",
        "from nltk import word_tokenize\n",
        "from nltk.steam import PorterStemmer\n",
        "text = \"There are many different types of trees that grow. Trees are food for man and all herbivorous animals. The roots, stems, leaves, flowers, fruits and seeds of trees may be edible. Trees are also home to many wildlife species. Animals seek the shade and shelter of trees. Birds build their nests in trees. Reptiles and insects also live in trees.\""
      ]
    },
    {
      "cell_type": "code",
      "source": [
        "nltk.download('punkt')\n"
      ],
      "metadata": {
        "colab": {
          "base_uri": "https://localhost:8080/"
        },
        "id": "zq3Tp9Z87SZt",
        "outputId": "ca71dd5a-c4d5-4eb8-fd9b-d82b8eeab66f"
      },
      "execution_count": 11,
      "outputs": [
        {
          "output_type": "stream",
          "name": "stdout",
          "text": [
            "['Hello everyone!']\n"
          ]
        },
        {
          "output_type": "stream",
          "name": "stderr",
          "text": [
            "[nltk_data] Downloading package punkt to /root/nltk_data...\n",
            "[nltk_data]   Package punkt is already up-to-date!\n"
          ]
        }
      ]
    },
    {
      "cell_type": "code",
      "source": [
        "tokens_sents = nltk.sent_tokenize(text)\n",
        "print(tokens_sents)"
      ],
      "metadata": {
        "id": "B9jq3b72-NVk",
        "outputId": "140b7473-70b6-4aa6-f157-9ab949ef2b97",
        "colab": {
          "base_uri": "https://localhost:8080/"
        }
      },
      "execution_count": 14,
      "outputs": [
        {
          "output_type": "stream",
          "name": "stdout",
          "text": [
            "['There are many different types of trees that grow.', 'Trees are food for man and all herbivorous animals.', 'The roots, stems, leaves, flowers, fruits and seeds of trees may be edible.', 'Trees are also home to many wildlife species.', 'Animals seek the shade and shelter of trees.', 'Birds build their nests in trees.', 'Reptiles and insects also live in trees.']\n"
          ]
        }
      ]
    },
    {
      "cell_type": "code",
      "source": [
        "tokens_word = nltk.word_tokenize(text)\n",
        "print(tokens_word)"
      ],
      "metadata": {
        "id": "86EmI1LQ9Ze4",
        "outputId": "6c3401cf-6a10-48ba-d990-a6164eaf9165",
        "colab": {
          "base_uri": "https://localhost:8080/"
        }
      },
      "execution_count": 15,
      "outputs": [
        {
          "metadata": {
            "tags": null
          },
          "name": "stdout",
          "output_type": "stream",
          "text": [
            "['There', 'are', 'many', 'different', 'types', 'of', 'trees', 'that', 'grow', '.', 'Trees', 'are', 'food', 'for', 'man', 'and', 'all', 'herbivorous', 'animals', '.', 'The', 'roots', ',', 'stems', ',', 'leaves', ',', 'flowers', ',', 'fruits', 'and', 'seeds', 'of', 'trees', 'may', 'be', 'edible', '.', 'Trees', 'are', 'also', 'home', 'to', 'many', 'wildlife', 'species', '.', 'Animals', 'seek', 'the', 'shade', 'and', 'shelter', 'of', 'trees', '.', 'Birds', 'build', 'their', 'nests', 'in', 'trees', '.', 'Reptiles', 'and', 'insects', 'also', 'live', 'in', 'trees', '.']\n"
          ]
        }
      ]
    },
    {
      "cell_type": "code",
      "source": [
        "from nltk.stem import PorterStemmer\n",
        "ps = PorterStemmer()\n",
        "word = (\"civilization\")\n",
        "ps.stem(word)\n"
      ],
      "metadata": {
        "id": "kbK5gVhB-TDR",
        "outputId": "91e1fa7a-1d98-49f7-e932-26dafc8fa78b",
        "colab": {
          "base_uri": "https://localhost:8080/",
          "height": 35
        }
      },
      "execution_count": 21,
      "outputs": [
        {
          "output_type": "execute_result",
          "data": {
            "text/plain": [
              "'civil'"
            ],
            "application/vnd.google.colaboratory.intrinsic+json": {
              "type": "string"
            }
          },
          "metadata": {},
          "execution_count": 21
        }
      ]
    },
    {
      "cell_type": "code",
      "source": [
        "from nltk.stem.snowball import SnowballStemmer\n",
        "stemmer = SnowballStemmer(language=\"english\") \n",
        "word = \"civilization\" \n",
        "stemmer.steam(word)"
      ],
      "metadata": {
        "id": "bsNK99Vb__se",
        "outputId": "3eeb495a-519c-4a08-94ad-d5fb27b278c6",
        "colab": {
          "base_uri": "https://localhost:8080/",
          "height": 201
        }
      },
      "execution_count": 23,
      "outputs": [
        {
          "output_type": "error",
          "ename": "AttributeError",
          "evalue": "ignored",
          "traceback": [
            "\u001b[0;31m---------------------------------------------------------------------------\u001b[0m",
            "\u001b[0;31mAttributeError\u001b[0m                            Traceback (most recent call last)",
            "\u001b[0;32m<ipython-input-23-3e4825d4e457>\u001b[0m in \u001b[0;36m<module>\u001b[0;34m\u001b[0m\n\u001b[1;32m      2\u001b[0m \u001b[0mstemmer\u001b[0m \u001b[0;34m=\u001b[0m \u001b[0mSnowballStemmer\u001b[0m\u001b[0;34m(\u001b[0m\u001b[0mlanguage\u001b[0m\u001b[0;34m=\u001b[0m\u001b[0;34m\"english\"\u001b[0m\u001b[0;34m)\u001b[0m\u001b[0;34m\u001b[0m\u001b[0;34m\u001b[0m\u001b[0m\n\u001b[1;32m      3\u001b[0m \u001b[0mword\u001b[0m \u001b[0;34m=\u001b[0m \u001b[0;34m\"civilization\"\u001b[0m\u001b[0;34m\u001b[0m\u001b[0;34m\u001b[0m\u001b[0m\n\u001b[0;32m----> 4\u001b[0;31m \u001b[0mstemmer\u001b[0m\u001b[0;34m.\u001b[0m\u001b[0msteam\u001b[0m\u001b[0;34m(\u001b[0m\u001b[0mword\u001b[0m\u001b[0;34m)\u001b[0m\u001b[0;34m\u001b[0m\u001b[0;34m\u001b[0m\u001b[0m\n\u001b[0m",
            "\u001b[0;31mAttributeError\u001b[0m: 'SnowballStemmer' object has no attribute 'steam'"
          ]
        }
      ]
    },
    {
      "cell_type": "code",
      "source": [
        "from nltk.stem import WordNetLemmatizer\n",
        "nltk.download('wordnet')\n",
        "nltk.download('omw-1.4')\n",
        "\n",
        "lemmatizer = WordNetLemmatizer()\n",
        "print(lemmatizer.lemmatize(\"workers\"))\n",
        "print(lemmatizer.lemmatize(\"beeches\"))\n"
      ],
      "metadata": {
        "id": "3O-PrhbuAoWj",
        "outputId": "19ec0247-5c93-4c2d-9300-71e8ee9e00b7",
        "colab": {
          "base_uri": "https://localhost:8080/"
        }
      },
      "execution_count": 27,
      "outputs": [
        {
          "output_type": "stream",
          "name": "stderr",
          "text": [
            "[nltk_data] Downloading package wordnet to /root/nltk_data...\n",
            "[nltk_data]   Package wordnet is already up-to-date!\n",
            "[nltk_data] Downloading package omw-1.4 to /root/nltk_data...\n"
          ]
        },
        {
          "output_type": "stream",
          "name": "stdout",
          "text": [
            "worker\n",
            "beech\n"
          ]
        }
      ]
    },
    {
      "cell_type": "code",
      "source": [
        "from nltk import word_tokenize\n",
        "nltk.download('averaged_perceptron_tagger')\n",
        "text = \"The Striped bats are hanging\"\n",
        "tokens = nltk.word_tokenize(text)\n",
        "print(\"Parts of speech\",nltk.pos_tag(tokens))"
      ],
      "metadata": {
        "id": "Wg7FiBbsCYUD",
        "outputId": "0f201680-47e3-4e0f-fc46-c17a47141b08",
        "colab": {
          "base_uri": "https://localhost:8080/"
        }
      },
      "execution_count": 29,
      "outputs": [
        {
          "output_type": "stream",
          "name": "stderr",
          "text": [
            "[nltk_data] Downloading package averaged_perceptron_tagger to\n",
            "[nltk_data]     /root/nltk_data...\n",
            "[nltk_data]   Unzipping taggers/averaged_perceptron_tagger.zip.\n"
          ]
        },
        {
          "output_type": "stream",
          "name": "stdout",
          "text": [
            "Parts of speech [('The', 'DT'), ('Striped', 'NNP'), ('bats', 'NNS'), ('are', 'VBP'), ('hanging', 'VBG')]\n"
          ]
        }
      ]
    },
    {
      "cell_type": "code",
      "source": [
        "from nltk.stem import PorterStemmer\n",
        "from nltk.tokenize import word_tokenize\n",
        "ps = PorterStemmer\n",
        "words = [\"program\",\"pragrams\",\"programmer\"]\n"
      ],
      "metadata": {
        "id": "_Q6cf-MnC-1Y"
      },
      "execution_count": null,
      "outputs": []
    },
    {
      "cell_type": "code",
      "source": [],
      "metadata": {
        "id": "7H6Td6YWFcFu"
      },
      "execution_count": null,
      "outputs": []
    },
    {
      "cell_type": "markdown",
      "source": [
        "import nltk\n",
        "from nltk "
      ],
      "metadata": {
        "id": "vqFW3Z5u5bQF"
      }
    }
  ]
}